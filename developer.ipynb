{
 "cells": [
  {
   "cell_type": "code",
   "execution_count": 32,
   "id": "initial_id",
   "metadata": {
    "ExecuteTime": {
     "end_time": "2024-01-02T15:37:57.470624200Z",
     "start_time": "2024-01-02T15:37:51.297232300Z"
    }
   },
   "outputs": [],
   "source": [
    "import asyncssh\n",
    "import textfsm\n",
    "import pandas as pd"
   ]
  },
  {
   "cell_type": "code",
   "execution_count": 44,
   "id": "81dadfeedd1646c",
   "metadata": {
    "collapsed": false,
    "ExecuteTime": {
     "end_time": "2024-01-02T15:45:17.783256100Z",
     "start_time": "2024-01-02T15:45:17.755711300Z"
    }
   },
   "outputs": [],
   "source": [
    "class Device(asyncssh.client.SSHClient):\n",
    "    def __init__(self, site_name, ipaddr, username, password):\n",
    "        self.site_name = site_name\n",
    "        self.ipaddr = ipaddr\n",
    "        self.username = username\n",
    "        self.password = password\n",
    "        self.jump_connection = None\n",
    "        self.connection = None\n",
    "        self.hostname = None\n",
    "        self.serial_numbers = None\n",
    "        self.uptime = None\n",
    "        self.cdp_neighbour_information = None\n",
    "        self.device_information = None\n",
    "        self.encryption_algs_list = [\"aes128-cbc\", \"3des-cbc\", \"aes192-cbc\", \"aes256-cbc\", \"aes256-ctr\"]\n",
    "        self.kex_algs_list = [\"diffie-hellman-group-exchange-sha1\", \"diffie-hellman-group14-sha1\",\n",
    "                              \"diffie-hellman-group1-sha1\"]\n",
    "\n",
    "    async def connect(self):\n",
    "        self.connection = \\\n",
    "            await asyncssh.connect(\n",
    "                self.ipaddr,\n",
    "                username=self.username,\n",
    "                password=self.password,\n",
    "                known_hosts=None,\n",
    "                encryption_algs=self.encryption_algs_list,\n",
    "                kex_algs=self.kex_algs_list,\n",
    "                connect_timeout=10,\n",
    "            )\n",
    "\n",
    "    async def initialise(self):\n",
    "        print(\"Initialising Device, Please Wait!\")\n",
    "        print(\" \")\n",
    "        await self.get_device_info()\n",
    "        await self.get_cdp_neighbors()\n",
    "\n",
    "    async def get_cdp_neighbors(self):\n",
    "        await self.connect()\n",
    "        show_cdp_neighbours = await self.connection.run('show cdp neighbors detail')\n",
    "        with open(f\"ProgramFiles/textfsm/cisco_ios_show_cdp_neighbors_detail.textfsm\") as f:\n",
    "            re_table = textfsm.TextFSM(f)\n",
    "            output = re_table.ParseText(show_cdp_neighbours.stdout)\n",
    "        self.cdp_neighbour_information = [dict(zip(re_table.header, entry)) for entry in output]\n",
    "\n",
    "        for entry in self.cdp_neighbour_information:\n",
    "            text = entry['DESTINATION_HOST']\n",
    "            head, sep, tail = text.partition('.')\n",
    "            entry['DESTINATION_HOST'] = head.upper()\n",
    "            entry['LOCAL_HOST'] = self.hostname\n",
    "            entry['LOCAL_IP'] = self.ipaddr \n",
    "            entry['LOCAL_SERIAL'] = self.serial_numbers\n",
    "            entry['LOCAL_UPTIME'] = self.uptime\n",
    "        await self.close()\n",
    "\n",
    "        return self.cdp_neighbour_information[0]\n",
    "\n",
    "    async def get_device_info(self):\n",
    "        await self.connect()\n",
    "        show_version = await self.connection.run('show version')\n",
    "        with open(f\"ProgramFiles/textfsm/cisco_ios_show_version.textfsm\") as f:\n",
    "            re_table = textfsm.TextFSM(f)\n",
    "            output = re_table.ParseText(show_version.stdout)\n",
    "        self.device_information = [dict(zip(re_table.header, entry)) for entry in output]\n",
    "\n",
    "        self.hostname = self.device_information[0].get(\"HOSTNAME\")\n",
    "        self.serial_numbers = self.device_information[0].get(\"SERIAL\")\n",
    "        self.uptime = self.device_information[0].get(\"UPTIME\")\n",
    "        await self.close()\n",
    "\n",
    "        return self.device_information[0]\n",
    "\n",
    "    async def close(self):\n",
    "        self.connection.close()\n",
    "        await self.connection.wait_closed()"
   ]
  },
  {
   "cell_type": "code",
   "execution_count": 45,
   "id": "a49c29c21bcb900d",
   "metadata": {
    "collapsed": false,
    "ExecuteTime": {
     "end_time": "2024-01-02T15:45:18.531342900Z",
     "start_time": "2024-01-02T15:45:18.498262200Z"
    }
   },
   "outputs": [],
   "source": [
    "async def main():\n",
    "    seed_device = Device('', '', '', '')\n",
    "\n",
    "\n",
    "    await seed_device.initialise()\n",
    "\n",
    "    for entry in seed_device.cdp_neighbour_information:\n",
    "        print(f\"Hostname: {entry['DESTINATION_HOST']}\")\n",
    "        print(f\"IP Address: {entry['MANAGEMENT_IP']}\")\n",
    "        print(f\"Local Port: {entry['LOCAL_PORT']}\")\n",
    "        print(f\"Platform: {entry['PLATFORM']}\")\n",
    "        print(\"=========================================================================\")\n",
    "        \n",
    "    df = pd.DataFrame(seed_device.cdp_neighbour_information, columns=[\"LOCAL_HOST\",\n",
    "                                                                      \"LOCAL_IP\",\n",
    "                                                                      \"LOCAL_PORT\",\n",
    "                                                                      \"LOCAL_SERIAL\",\n",
    "                                                                      \"LOCAL_UPTIME\",\n",
    "                                                                      \"DESTINATION_HOST\",\n",
    "                                                                      \"REMOTE_PORT\",\n",
    "                                                                      \"MANAGEMENT_IP\",\n",
    "                                                                      \"PLATFORM\",\n",
    "                                                                      \"SOFTWARE_VERSION\",\n",
    "                                                                      \"CAPABILITIES\"\n",
    "                                                                      ])\n",
    "    print(df)\n"
   ]
  },
  {
   "cell_type": "code",
   "execution_count": 46,
   "id": "15b1d9b0755689f5",
   "metadata": {
    "collapsed": false,
    "ExecuteTime": {
     "end_time": "2024-01-02T15:45:24.071436500Z",
     "start_time": "2024-01-02T15:45:19.545735100Z"
    }
   },
   "outputs": [
    {
     "name": "stdout",
     "output_type": "stream",
     "text": [
      "Initialising Device, Please Wait!\n",
      " \n",
      "Hostname: OFFICE\n",
      "IP Address: 192.168.1.3\n",
      "Local Port: GigabitEthernet0/7\n",
      "Platform: cisco WS-C3560CG-8PC-S\n",
      "=========================================================================\n",
      "Hostname: OFFICE\n",
      "IP Address: 192.168.1.3\n",
      "Local Port: GigabitEthernet0/8\n",
      "Platform: cisco WS-C3560CG-8PC-S\n",
      "=========================================================================\n",
      "Hostname: WM-RTR-C1117\n",
      "IP Address: 192.168.1.1\n",
      "Local Port: GigabitEthernet0/1\n",
      "Platform: cisco C1117-4P\n",
      "=========================================================================\n",
      "Hostname: UPSTAIRS\n",
      "IP Address: 192.168.1.4\n",
      "Local Port: GigabitEthernet0/9\n",
      "Platform: cisco WS-C2960X-24PS-L\n",
      "=========================================================================\n",
      "Hostname: UPSTAIRS\n",
      "IP Address: 192.168.1.4\n",
      "Local Port: GigabitEthernet0/10\n",
      "Platform: cisco WS-C2960X-24PS-L\n",
      "=========================================================================\n",
      "   LOCAL_HOST     LOCAL_IP           LOCAL_PORT   LOCAL_SERIAL  \\\n",
      "0  Agg_Switch  192.168.1.2   GigabitEthernet0/7  [FOC1938Z1BN]   \n",
      "1  Agg_Switch  192.168.1.2   GigabitEthernet0/8  [FOC1938Z1BN]   \n",
      "2  Agg_Switch  192.168.1.2   GigabitEthernet0/1  [FOC1938Z1BN]   \n",
      "3  Agg_Switch  192.168.1.2   GigabitEthernet0/9  [FOC1938Z1BN]   \n",
      "4  Agg_Switch  192.168.1.2  GigabitEthernet0/10  [FOC1938Z1BN]   \n",
      "\n",
      "                           LOCAL_UPTIME DESTINATION_HOST  \\\n",
      "0  6 weeks, 4 days, 7 hours, 17 minutes           OFFICE   \n",
      "1  6 weeks, 4 days, 7 hours, 17 minutes           OFFICE   \n",
      "2  6 weeks, 4 days, 7 hours, 17 minutes     WM-RTR-C1117   \n",
      "3  6 weeks, 4 days, 7 hours, 17 minutes         UPSTAIRS   \n",
      "4  6 weeks, 4 days, 7 hours, 17 minutes         UPSTAIRS   \n",
      "\n",
      "             REMOTE_PORT MANAGEMENT_IP                PLATFORM  \\\n",
      "0     GigabitEthernet0/9   192.168.1.3  cisco WS-C3560CG-8PC-S   \n",
      "1    GigabitEthernet0/10   192.168.1.3  cisco WS-C3560CG-8PC-S   \n",
      "2   GigabitEthernet0/1/0   192.168.1.1          cisco C1117-4P   \n",
      "3  GigabitEthernet1/0/24   192.168.1.4  cisco WS-C2960X-24PS-L   \n",
      "4  GigabitEthernet1/0/23   192.168.1.4  cisco WS-C2960X-24PS-L   \n",
      "\n",
      "                                    SOFTWARE_VERSION        CAPABILITIES  \n",
      "0  Cisco IOS Software, C3560C Software (C3560c405...         Switch IGMP  \n",
      "1  Cisco IOS Software, C3560C Software (C3560c405...         Switch IGMP  \n",
      "2  Cisco IOS Software [Cupertino], ISR Software (...  Router Switch IGMP  \n",
      "3  Cisco IOS Software, C2960X Software (C2960X-UN...         Switch IGMP  \n",
      "4  Cisco IOS Software, C2960X Software (C2960X-UN...         Switch IGMP  \n"
     ]
    }
   ],
   "source": [
    "await main()"
   ]
  }
 ],
 "metadata": {
  "kernelspec": {
   "display_name": "Python 3 (ipykernel)",
   "language": "python",
   "name": "python3"
  },
  "language_info": {
   "codemirror_mode": {
    "name": "ipython",
    "version": 3
   },
   "file_extension": ".py",
   "mimetype": "text/x-python",
   "name": "python",
   "nbconvert_exporter": "python",
   "pygments_lexer": "ipython3",
   "version": "3.11.7"
  }
 },
 "nbformat": 4,
 "nbformat_minor": 5
}
