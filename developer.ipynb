{
 "cells": [
  {
   "cell_type": "code",
   "execution_count": 33,
   "id": "initial_id",
   "metadata": {
    "ExecuteTime": {
     "end_time": "2024-01-03T14:17:06.555973900Z",
     "start_time": "2024-01-03T14:17:06.536157700Z"
    }
   },
   "outputs": [],
   "source": [
    "import asyncio\n",
    "import asyncssh\n",
    "import textfsm\n",
    "from pprint import pprint"
   ]
  },
  {
   "cell_type": "code",
   "execution_count": 15,
   "id": "81dadfeedd1646c",
   "metadata": {
    "collapsed": false,
    "ExecuteTime": {
     "end_time": "2024-01-03T14:02:41.681027200Z",
     "start_time": "2024-01-03T14:02:41.664491100Z"
    }
   },
   "outputs": [],
   "source": [
    "class Device(asyncssh.client.SSHClient):\n",
    "    def __init__(self, ipaddr, username, password):\n",
    "        self.ipaddr = ipaddr\n",
    "        self.username = username\n",
    "        self.password = password\n",
    "        self.jump_connection = None\n",
    "        self.connection = None\n",
    "        self.hostname = None\n",
    "        self.serial_numbers = None\n",
    "        self.uptime = None\n",
    "        self.cdp_neighbour_information = None\n",
    "        self.device_information = None\n",
    "        self.encryption_algs_list = [\"aes128-cbc\", \"3des-cbc\", \"aes192-cbc\", \"aes256-cbc\", \"aes256-ctr\"]\n",
    "        self.kex_algs_list = [\"diffie-hellman-group-exchange-sha1\", \"diffie-hellman-group14-sha1\",\n",
    "                              \"diffie-hellman-group1-sha1\"]\n",
    "\n",
    "    async def connect(self):\n",
    "        self.connection = \\\n",
    "            await asyncssh.connect(\n",
    "                self.ipaddr,\n",
    "                username=self.username,\n",
    "                password=self.password,\n",
    "                known_hosts=None,\n",
    "                encryption_algs=self.encryption_algs_list,\n",
    "                kex_algs=self.kex_algs_list,\n",
    "                connect_timeout=10,\n",
    "            )\n",
    "\n",
    "    async def initialise(self):\n",
    "        print(\"Initialising Device, Please Wait!\")\n",
    "        print(\" \")\n",
    "        await self.get_device_info()\n",
    "        await self.get_cdp_neighbors()\n",
    "\n",
    "    async def get_cdp_neighbors(self):\n",
    "        await self.connect()\n",
    "        show_cdp_neighbours = await self.connection.run('show cdp neighbors detail')\n",
    "        with open(f\"ProgramFiles/textfsm/cisco_ios_show_cdp_neighbors_detail.textfsm\") as f:\n",
    "            re_table = textfsm.TextFSM(f)\n",
    "            output = re_table.ParseText(show_cdp_neighbours.stdout)\n",
    "        self.cdp_neighbour_information = [dict(zip(re_table.header, entry)) for entry in output]\n",
    "\n",
    "        for entry in self.cdp_neighbour_information:\n",
    "            text = entry['DESTINATION_HOST']\n",
    "            head, sep, tail = text.partition('.')\n",
    "            entry['DESTINATION_HOST'] = head.upper()\n",
    "            entry['LOCAL_HOST'] = self.hostname\n",
    "            entry['LOCAL_IP'] = self.ipaddr \n",
    "            entry['LOCAL_SERIAL'] = self.serial_numbers\n",
    "            entry['LOCAL_UPTIME'] = self.uptime\n",
    "        await self.close()\n",
    "\n",
    "        return self.cdp_neighbour_information[0]\n",
    "\n",
    "    async def get_device_info(self):\n",
    "        await self.connect()\n",
    "        show_version = await self.connection.run('show version')\n",
    "        with open(f\"ProgramFiles/textfsm/cisco_ios_show_version.textfsm\") as f:\n",
    "            re_table = textfsm.TextFSM(f)\n",
    "            output = re_table.ParseText(show_version.stdout)\n",
    "        self.device_information = [dict(zip(re_table.header, entry)) for entry in output]\n",
    "\n",
    "        self.hostname = self.device_information[0].get(\"HOSTNAME\")\n",
    "        self.serial_numbers = self.device_information[0].get(\"SERIAL\")\n",
    "        self.uptime = self.device_information[0].get(\"UPTIME\")\n",
    "        await self.close()\n",
    "\n",
    "        return self.device_information[0]\n",
    "\n",
    "    async def close(self):\n",
    "        self.connection.close()\n",
    "        await self.connection.wait_closed()"
   ]
  },
  {
   "cell_type": "code",
   "execution_count": 44,
   "id": "a49c29c21bcb900d",
   "metadata": {
    "collapsed": false,
    "ExecuteTime": {
     "end_time": "2024-01-03T14:20:48.470296Z",
     "start_time": "2024-01-03T14:20:48.450058900Z"
    }
   },
   "outputs": [],
   "source": [
    "async def main():\n",
    "    seed_device = Device('192.168.1.2', 'chris', '!Lepsodizle0!')\n",
    "\n",
    "\n",
    "    await seed_device.initialise()\n",
    "    \n",
    "    discovered_neighbours = dict()\n",
    "    for neighbour in seed_device.cdp_neighbour_information:\n",
    "            for device_info in seed_device.device_information:\n",
    "                discovered_neighbours[neighbour[\"DESTINATION_HOST\"]] = neighbour[\"MANAGEMENT_IP\"]\n",
    "    \n",
    "    discover_neighbours = (Device(host, \"chris\", \"!Lepsodizle0!\") for host in discovered_neighbours.keys())\n",
    "    \n",
    "    await asyncio.gather(*discover_neighbours)\n"
   ]
  },
  {
   "cell_type": "code",
   "execution_count": 47,
   "id": "15b1d9b0755689f5",
   "metadata": {
    "collapsed": false,
    "ExecuteTime": {
     "end_time": "2024-01-03T14:23:27.369643700Z",
     "start_time": "2024-01-03T14:23:27.275963400Z"
    }
   },
   "outputs": [
    {
     "ename": "RuntimeError",
     "evalue": "asyncio.run() cannot be called from a running event loop",
     "output_type": "error",
     "traceback": [
      "\u001B[1;31m---------------------------------------------------------------------------\u001B[0m",
      "\u001B[1;31mRuntimeError\u001B[0m                              Traceback (most recent call last)",
      "Cell \u001B[1;32mIn[47], line 1\u001B[0m\n\u001B[1;32m----> 1\u001B[0m \u001B[43masyncio\u001B[49m\u001B[38;5;241;43m.\u001B[39;49m\u001B[43mrun\u001B[49m\u001B[43m(\u001B[49m\u001B[43mmain\u001B[49m\u001B[43m(\u001B[49m\u001B[43m)\u001B[49m\u001B[43m)\u001B[49m\n",
      "File \u001B[1;32m~\\AppData\\Local\\Programs\\Python\\Python311\\Lib\\asyncio\\runners.py:186\u001B[0m, in \u001B[0;36mrun\u001B[1;34m(main, debug)\u001B[0m\n\u001B[0;32m    161\u001B[0m \u001B[38;5;250m\u001B[39m\u001B[38;5;124;03m\"\"\"Execute the coroutine and return the result.\u001B[39;00m\n\u001B[0;32m    162\u001B[0m \n\u001B[0;32m    163\u001B[0m \u001B[38;5;124;03mThis function runs the passed coroutine, taking care of\u001B[39;00m\n\u001B[1;32m   (...)\u001B[0m\n\u001B[0;32m    182\u001B[0m \u001B[38;5;124;03m    asyncio.run(main())\u001B[39;00m\n\u001B[0;32m    183\u001B[0m \u001B[38;5;124;03m\"\"\"\u001B[39;00m\n\u001B[0;32m    184\u001B[0m \u001B[38;5;28;01mif\u001B[39;00m events\u001B[38;5;241m.\u001B[39m_get_running_loop() \u001B[38;5;129;01mis\u001B[39;00m \u001B[38;5;129;01mnot\u001B[39;00m \u001B[38;5;28;01mNone\u001B[39;00m:\n\u001B[0;32m    185\u001B[0m     \u001B[38;5;66;03m# fail fast with short traceback\u001B[39;00m\n\u001B[1;32m--> 186\u001B[0m     \u001B[38;5;28;01mraise\u001B[39;00m \u001B[38;5;167;01mRuntimeError\u001B[39;00m(\n\u001B[0;32m    187\u001B[0m         \u001B[38;5;124m\"\u001B[39m\u001B[38;5;124masyncio.run() cannot be called from a running event loop\u001B[39m\u001B[38;5;124m\"\u001B[39m)\n\u001B[0;32m    189\u001B[0m \u001B[38;5;28;01mwith\u001B[39;00m Runner(debug\u001B[38;5;241m=\u001B[39mdebug) \u001B[38;5;28;01mas\u001B[39;00m runner:\n\u001B[0;32m    190\u001B[0m     \u001B[38;5;28;01mreturn\u001B[39;00m runner\u001B[38;5;241m.\u001B[39mrun(main)\n",
      "\u001B[1;31mRuntimeError\u001B[0m: asyncio.run() cannot be called from a running event loop"
     ]
    }
   ],
   "source": [
    "await main()"
   ]
  }
 ],
 "metadata": {
  "kernelspec": {
   "display_name": "Python 3 (ipykernel)",
   "language": "python",
   "name": "python3"
  },
  "language_info": {
   "codemirror_mode": {
    "name": "ipython",
    "version": 3
   },
   "file_extension": ".py",
   "mimetype": "text/x-python",
   "name": "python",
   "nbconvert_exporter": "python",
   "pygments_lexer": "ipython3",
   "version": "3.11.7"
  }
 },
 "nbformat": 4,
 "nbformat_minor": 5
}
