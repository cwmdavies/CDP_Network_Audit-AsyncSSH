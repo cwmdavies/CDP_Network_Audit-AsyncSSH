{
 "cells": [
  {
   "cell_type": "code",
   "execution_count": 6,
   "id": "initial_id",
   "metadata": {
    "ExecuteTime": {
     "end_time": "2023-12-17T10:53:14.147586900Z",
     "start_time": "2023-12-17T10:53:14.064678700Z"
    }
   },
   "outputs": [],
   "source": [
    "import asyncio\n",
    "import asyncssh\n",
    "import textfsm\n",
    "from pprint import pprint"
   ]
  },
  {
   "cell_type": "code",
   "execution_count": 7,
   "id": "81dadfeedd1646c",
   "metadata": {
    "collapsed": false,
    "ExecuteTime": {
     "end_time": "2023-12-17T10:53:15.121071800Z",
     "start_time": "2023-12-17T10:53:15.038261400Z"
    }
   },
   "outputs": [],
   "source": [
    "class Device(asyncssh.client.SSHClient):\n",
    "    def __init__(self, site_name, ipaddr, username, password):\n",
    "        self.site_name = site_name\n",
    "        self.ipaddr = ipaddr\n",
    "        self.username = username\n",
    "        self.password = password\n",
    "        self.jump_connection = None\n",
    "        self.connection = None\n",
    "        self.hostname = None\n",
    "        self.serial_numbers = None\n",
    "        self.uptime = None\n",
    "        self.cdp_neighbour_information = None\n",
    "        self.device_information = None\n",
    "        self.encryption_algs_list = [\"aes128-cbc\", \"3des-cbc\", \"aes192-cbc\", \"aes256-cbc\", \"aes256-ctr\"]\n",
    "        self.kex_algs_list = [\"diffie-hellman-group-exchange-sha1\", \"diffie-hellman-group14-sha1\",\n",
    "                              \"diffie-hellman-group1-sha1\"]\n",
    "\n",
    "    async def connect(self):\n",
    "        self.connection = \\\n",
    "            await asyncssh.connect(\n",
    "                self.ipaddr,\n",
    "                username=self.username,\n",
    "                password=self.password,\n",
    "                known_hosts=None,\n",
    "                encryption_algs=self.encryption_algs_list,\n",
    "                kex_algs=self.kex_algs_list,\n",
    "                connect_timeout=10,\n",
    "            )\n",
    "\n",
    "    async def initialise(self):\n",
    "        print(\"Initialising Device, Please Wait!\")\n",
    "        await self.get_cdp_neighbors()\n",
    "        await self.get_device_info()\n",
    "\n",
    "    async def get_cdp_neighbors(self):\n",
    "        await self.connect()\n",
    "        show_cdp_neighbours = await self.connection.run('show cdp neighbors detail')\n",
    "        with open(f\"textfsm/cisco_ios_show_cdp_neighbors_detail.textfsm\") as f:\n",
    "            re_table = textfsm.TextFSM(f)\n",
    "            output = re_table.ParseText(show_cdp_neighbours.stdout)\n",
    "        self.cdp_neighbour_information = [dict(zip(re_table.header, entry)) for entry in output]\n",
    "\n",
    "        for entry in self.cdp_neighbour_information:\n",
    "            text = entry['DESTINATION_HOST']\n",
    "            head, sep, tail = text.partition('.')\n",
    "            entry['DESTINATION_HOST'] = head.upper()\n",
    "        await self.close()\n",
    "\n",
    "        return self.cdp_neighbour_information[0]\n",
    "\n",
    "    async def get_device_info(self):\n",
    "        await self.connect()\n",
    "        show_version = await self.connection.run('show version')\n",
    "        with open(f\"textfsm/cisco_ios_show_version.textfsm\") as f:\n",
    "            re_table = textfsm.TextFSM(f)\n",
    "            output = re_table.ParseText(show_version.stdout)\n",
    "        self.device_information = [dict(zip(re_table.header, entry)) for entry in output]\n",
    "\n",
    "        self.hostname = self.device_information[0].get(\"HOSTNAME\")\n",
    "        self.serial_numbers = self.device_information[0].get(\"SERIAL\")\n",
    "        self.uptime = self.device_information[0].get(\"UPTIME\")\n",
    "        await self.close()\n",
    "\n",
    "        return self.device_information[0]\n",
    "\n",
    "    async def close(self):\n",
    "        self.connection.close()\n",
    "        await self.connection.wait_closed()"
   ]
  },
  {
   "cell_type": "code",
   "execution_count": 8,
   "id": "a49c29c21bcb900d",
   "metadata": {
    "collapsed": false,
    "ExecuteTime": {
     "end_time": "2023-12-17T10:53:16.378593200Z",
     "start_time": "2023-12-17T10:53:16.309887Z"
    }
   },
   "outputs": [],
   "source": [
    "async def main():\n",
    "    device = Device('', '', '', '')\n",
    "\n",
    "\n",
    "    await device.initialise()\n",
    "\n",
    "    for entry in device.cdp_neighbour_information:\n",
    "        pprint(entry['DESTINATION_HOST'])\n",
    "        print(\"=========================================================================\")\n"
   ]
  },
  {
   "cell_type": "code",
   "execution_count": 9,
   "id": "15b1d9b0755689f5",
   "metadata": {
    "collapsed": false,
    "ExecuteTime": {
     "end_time": "2023-12-17T10:53:25.434800500Z",
     "start_time": "2023-12-17T10:53:19.499020300Z"
    }
   },
   "outputs": [
    {
     "name": "stdout",
     "output_type": "stream",
     "text": [
      "Initialising Device, Please Wait!\n",
      "'AP1_MASTER'\n",
      "=========================================================================\n",
      "'AP2_BEDROOM_4'\n",
      "=========================================================================\n",
      "'AP3_BEDROOM_2'\n",
      "=========================================================================\n",
      "'AGG_SWITCH'\n",
      "=========================================================================\n",
      "'AGG_SWITCH'\n",
      "=========================================================================\n"
     ]
    }
   ],
   "source": [
    "await main()"
   ]
  }
 ],
 "metadata": {
  "kernelspec": {
   "display_name": "Python 3 (ipykernel)",
   "language": "python",
   "name": "python3"
  },
  "language_info": {
   "codemirror_mode": {
    "name": "ipython",
    "version": 3
   },
   "file_extension": ".py",
   "mimetype": "text/x-python",
   "name": "python",
   "nbconvert_exporter": "python",
   "pygments_lexer": "ipython3",
   "version": "3.11.7"
  }
 },
 "nbformat": 4,
 "nbformat_minor": 5
}
