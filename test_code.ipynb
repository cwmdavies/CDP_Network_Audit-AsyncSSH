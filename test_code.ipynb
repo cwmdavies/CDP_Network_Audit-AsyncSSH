{
 "cells": [
  {
   "cell_type": "code",
   "execution_count": 1,
   "id": "initial_id",
   "metadata": {
    "collapsed": true,
    "ExecuteTime": {
     "end_time": "2024-01-05T18:21:37.304343700Z",
     "start_time": "2024-01-05T18:21:37.265761200Z"
    }
   },
   "outputs": [],
   "source": [
    "import asyncio"
   ]
  },
  {
   "cell_type": "code",
   "outputs": [],
   "source": [
    "host_queue = asyncio.Queue()"
   ],
   "metadata": {
    "collapsed": false,
    "ExecuteTime": {
     "end_time": "2024-01-05T18:21:37.337019Z",
     "start_time": "2024-01-05T18:21:37.294322100Z"
    }
   },
   "id": "5d2cade414b4c669",
   "execution_count": 2
  },
  {
   "cell_type": "code",
   "outputs": [],
   "source": [
    "host_queue.put_nowait(\"192.168.1.1\")\n",
    "host_queue.put_nowait(\"192.168.1.2\")\n",
    "host_queue.put_nowait(\"192.168.1.3\")\n",
    "host_queue.put_nowait(\"192.168.1.4\")\n",
    "host_queue.put_nowait(\"192.168.1.5\")\n",
    "hosts = list()"
   ],
   "metadata": {
    "collapsed": false,
    "ExecuteTime": {
     "end_time": "2024-01-05T18:25:40.464425900Z",
     "start_time": "2024-01-05T18:25:40.413904200Z"
    }
   },
   "id": "94ba1d06fe3c9a92",
   "execution_count": 27
  },
  {
   "cell_type": "code",
   "outputs": [],
   "source": [
    "for i in range(2):\n",
    "    if host_queue.empty():\n",
    "        break\n",
    "    hosts.append(host_queue.get_nowait())"
   ],
   "metadata": {
    "collapsed": false,
    "ExecuteTime": {
     "end_time": "2024-01-05T18:25:48.823501900Z",
     "start_time": "2024-01-05T18:25:48.801881900Z"
    }
   },
   "id": "a6030b848876bfea",
   "execution_count": 29
  },
  {
   "cell_type": "code",
   "outputs": [
    {
     "data": {
      "text/plain": "['192.168.1.4', '192.168.1.5']"
     },
     "execution_count": 30,
     "metadata": {},
     "output_type": "execute_result"
    }
   ],
   "source": [
    "hosts"
   ],
   "metadata": {
    "collapsed": false,
    "ExecuteTime": {
     "end_time": "2024-01-05T18:25:49.813559100Z",
     "start_time": "2024-01-05T18:25:49.766049100Z"
    }
   },
   "id": "54def2e3f56b5ffb",
   "execution_count": 30
  }
 ],
 "metadata": {
  "kernelspec": {
   "display_name": "Python 3",
   "language": "python",
   "name": "python3"
  },
  "language_info": {
   "codemirror_mode": {
    "name": "ipython",
    "version": 2
   },
   "file_extension": ".py",
   "mimetype": "text/x-python",
   "name": "python",
   "nbconvert_exporter": "python",
   "pygments_lexer": "ipython2",
   "version": "2.7.6"
  }
 },
 "nbformat": 4,
 "nbformat_minor": 5
}
